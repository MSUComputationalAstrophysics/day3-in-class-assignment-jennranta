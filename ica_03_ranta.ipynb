{
 "cells": [
  {
   "cell_type": "markdown",
   "metadata": {},
   "source": [
    "# In Class Assignment \\#3\n",
    "###### Jenn Ranta\n",
    "###### PHY905"
   ]
  },
  {
   "cell_type": "markdown",
   "metadata": {},
   "source": [
    "-----------------------------------------------------------------------------------------\n",
    "Instructions: We're going to use the functions you wrote for the Bisection and Newton's method, as well as some of the additional root finding methods in the SciPy optimize package (specifically, the methods for scalar functions).\n",
    "Your goal is straightforward: try to come up with multiple functions $f(x)$ that have one or more roots in an interval $[a, b]$ and which break one or more of the following methods: the Bisection Method, Newton's Method, the Secant Method (which is Newton's method with a numerically-computed derivative), and Brent's Method. In this case, \"break\" simply means to force the method to not find an existing root in that interval.\n",
    "Experiment with several functions, intervals $[a,b]$, and all of the methods described above. What are the characteristics of functions or chosen intervals $[a,b]$ that tend to break root-finding algorithms? Are some algorithms more robust than others to choice of function and/or interval? Are any of these algorithms effectively unbreakable? Make some notes in ANSWERS.md, and we'll also discuss it in class."
   ]
  },
  {
   "cell_type": "code",
   "execution_count": 1,
   "metadata": {
    "collapsed": true
   },
   "outputs": [],
   "source": [
    "import numpy as np\n",
    "import matplotlib.pyplot as plt\n",
    "import scipy.interpolate as interp\n",
    "import scipy.optimize as opt\n",
    "from matplotlib.path import Path\n",
    "from matplotlib import rcParams\n",
    "from math import *\n",
    "%matplotlib inline"
   ]
  },
  {
   "cell_type": "code",
   "execution_count": 2,
   "metadata": {
    "collapsed": false
   },
   "outputs": [],
   "source": [
    "# Bisection root finding method\n",
    "def bisection(func, start, end, precision):\n",
    "\n",
    "    x_list = []\n",
    "    f_list = []\n",
    "\n",
    "    dx = end - start\n",
    "\n",
    "    while np.abs(dx) > precision:\n",
    "        x = (start + end)/2.\n",
    "\n",
    "        x_list.append(x)\n",
    "        f_list.append(func(x))\n",
    "        #print \"x =\",x,\", f(x) =\",func(x)\n",
    "\n",
    "        if func(x)*func(start) < 0.:\n",
    "            end = x\n",
    "            dx = x - start\n",
    "\n",
    "        elif func(x)*func(end) < 0.:\n",
    "            start = x\n",
    "            dx = end - x\n",
    "\n",
    "        elif func(start)*func(end) > 0:\n",
    "            print 'No sign change.'\n",
    "            break\n",
    "\n",
    "    x_list = np.array(x_list)\n",
    "    f_list = np.array(f_list)\n",
    "\n",
    "    return x_list, f_list\n",
    "\n",
    "\n",
    "# Newton root finding method\n",
    "def newton(func, func_prime, start, end, precision):\n",
    "\n",
    "    x_list = []\n",
    "    f_list = []\n",
    "    f_prime_list = []\n",
    "\n",
    "    x = (start + end)/2.\n",
    "    dx = func(x)/func_prime(x)\n",
    "\n",
    "    while np.abs(dx) > precision:        \n",
    "        x_list.append(x)\n",
    "        f_list.append(func(x))\n",
    "        f_prime_list.append(func_prime(x))\n",
    "        #print \"x =\",x,\", f(x) =\",func(x),\", f'(x) =\",func_prime(x)\n",
    "\n",
    "        dx = func(x)/func_prime(x)\n",
    "        x = x - dx\n",
    "\n",
    "    x_list = np.array(x_list)\n",
    "    f_list = np.array(f_list)\n",
    "    f_prime_list = np.array(f_prime_list)\n",
    "\n",
    "    return x_list, f_list, f_prime_list\n",
    "\n",
    "# Secant root finding method\n",
    "def secant(func, start, end, precision):\n",
    "\n",
    "    x_list = []\n",
    "    f_list = []\n",
    "    f_prime_list = []\n",
    "\n",
    "    x = (start + end)/2.\n",
    "    dx = (end - start)/10.\n",
    "    x_prev = x + dx\n",
    "    slope = (func(x_prev) - func(x))/(x_prev - x)\n",
    "\n",
    "    while np.abs(dx) > precision:        \n",
    "        x_list.append(x)\n",
    "        f_list.append(func(x))\n",
    "        f_prime_list.append(slope)\n",
    "        #print \"x =\",x,\", f(x) =\",func(x),\", f'(x) =\",slope\n",
    "        \n",
    "        slope = (func(x_prev) - func(x))/(x_prev - x)\n",
    "        x_next = x_prev - func(x_prev)/slope\n",
    "        \n",
    "        x = x_prev\n",
    "        x_prev = x_next\n",
    "        dx = x_prev - x\n",
    "        \n",
    "        if np.size(x_list) > 1e3:\n",
    "            print 'Diverges!'\n",
    "            break\n",
    "\n",
    "    x_list = np.array(x_list)\n",
    "    f_list = np.array(f_list)\n",
    "    f_prime_list = np.array(f_prime_list)\n",
    "\n",
    "    return x_list, f_list, f_prime_list\n",
    "\n",
    "def brent(func, start, end):\n",
    "    print opt.brenth(func,start, end)\n",
    "    return opt.brenth(func,start, end)"
   ]
  },
  {
   "cell_type": "code",
   "execution_count": 3,
   "metadata": {
    "collapsed": false
   },
   "outputs": [],
   "source": [
    "def f1(x):\n",
    "    return np.abs(x)**(1./3.)"
   ]
  },
  {
   "cell_type": "code",
   "execution_count": 4,
   "metadata": {
    "collapsed": false
   },
   "outputs": [
    {
     "name": "stdout",
     "output_type": "stream",
     "text": [
      "No sign change.\n"
     ]
    }
   ],
   "source": [
    "x_bisec_root, f_sec_root, = bisection(f1, -1, 1, 0.001)"
   ]
  },
  {
   "cell_type": "code",
   "execution_count": 5,
   "metadata": {
    "collapsed": false
   },
   "outputs": [
    {
     "name": "stderr",
     "output_type": "stream",
     "text": [
      "/usr/local/lib/python2.7/site-packages/ipykernel/__main__.py:78: RuntimeWarning: overflow encountered in double_scalars\n",
      "/usr/local/lib/python2.7/site-packages/ipykernel/__main__.py:77: RuntimeWarning: invalid value encountered in double_scalars\n",
      "/usr/local/lib/python2.7/site-packages/ipykernel/__main__.py:71: RuntimeWarning: invalid value encountered in absolute\n"
     ]
    }
   ],
   "source": [
    "x_sec_root, f_sec_root, f_prime_sec_root = secant(f1, -2, 1, 0.00001)"
   ]
  },
  {
   "cell_type": "code",
   "execution_count": 6,
   "metadata": {
    "collapsed": false
   },
   "outputs": [
    {
     "ename": "ValueError",
     "evalue": "f(a) and f(b) must have different signs",
     "output_type": "error",
     "traceback": [
      "\u001b[0;31m---------------------------------------------------------------------------\u001b[0m",
      "\u001b[0;31mValueError\u001b[0m                                Traceback (most recent call last)",
      "\u001b[0;32m<ipython-input-6-86e278a1071b>\u001b[0m in \u001b[0;36m<module>\u001b[0;34m()\u001b[0m\n\u001b[0;32m----> 1\u001b[0;31m \u001b[0mx_brent_root\u001b[0m \u001b[0;34m=\u001b[0m \u001b[0mbrent\u001b[0m\u001b[0;34m(\u001b[0m\u001b[0mf1\u001b[0m\u001b[0;34m,\u001b[0m\u001b[0;34m-\u001b[0m\u001b[0;36m1\u001b[0m\u001b[0;34m,\u001b[0m\u001b[0;36m1\u001b[0m\u001b[0;34m)\u001b[0m\u001b[0;34m\u001b[0m\u001b[0m\n\u001b[0m",
      "\u001b[0;32m<ipython-input-2-0924b265c86c>\u001b[0m in \u001b[0;36mbrent\u001b[0;34m(func, start, end)\u001b[0m\n\u001b[1;32m     93\u001b[0m \u001b[0;34m\u001b[0m\u001b[0m\n\u001b[1;32m     94\u001b[0m \u001b[0;32mdef\u001b[0m \u001b[0mbrent\u001b[0m\u001b[0;34m(\u001b[0m\u001b[0mfunc\u001b[0m\u001b[0;34m,\u001b[0m \u001b[0mstart\u001b[0m\u001b[0;34m,\u001b[0m \u001b[0mend\u001b[0m\u001b[0;34m)\u001b[0m\u001b[0;34m:\u001b[0m\u001b[0;34m\u001b[0m\u001b[0m\n\u001b[0;32m---> 95\u001b[0;31m     \u001b[0;32mprint\u001b[0m \u001b[0mopt\u001b[0m\u001b[0;34m.\u001b[0m\u001b[0mbrenth\u001b[0m\u001b[0;34m(\u001b[0m\u001b[0mfunc\u001b[0m\u001b[0;34m,\u001b[0m\u001b[0mstart\u001b[0m\u001b[0;34m,\u001b[0m \u001b[0mend\u001b[0m\u001b[0;34m)\u001b[0m\u001b[0;34m\u001b[0m\u001b[0m\n\u001b[0m\u001b[1;32m     96\u001b[0m     \u001b[0;32mreturn\u001b[0m \u001b[0mopt\u001b[0m\u001b[0;34m.\u001b[0m\u001b[0mbrenth\u001b[0m\u001b[0;34m(\u001b[0m\u001b[0mfunc\u001b[0m\u001b[0;34m,\u001b[0m\u001b[0mstart\u001b[0m\u001b[0;34m,\u001b[0m \u001b[0mend\u001b[0m\u001b[0;34m)\u001b[0m\u001b[0;34m\u001b[0m\u001b[0m\n",
      "\u001b[0;32m/usr/local/lib/python2.7/site-packages/scipy/optimize/zeros.pyc\u001b[0m in \u001b[0;36mbrenth\u001b[0;34m(f, a, b, args, xtol, rtol, maxiter, full_output, disp)\u001b[0m\n\u001b[1;32m    526\u001b[0m     \u001b[0;32mif\u001b[0m \u001b[0mrtol\u001b[0m \u001b[0;34m<\u001b[0m \u001b[0m_rtol\u001b[0m\u001b[0;34m:\u001b[0m\u001b[0;34m\u001b[0m\u001b[0m\n\u001b[1;32m    527\u001b[0m         \u001b[0;32mraise\u001b[0m \u001b[0mValueError\u001b[0m\u001b[0;34m(\u001b[0m\u001b[0;34m\"rtol too small (%g < %g)\"\u001b[0m \u001b[0;34m%\u001b[0m \u001b[0;34m(\u001b[0m\u001b[0mrtol\u001b[0m\u001b[0;34m,\u001b[0m \u001b[0m_rtol\u001b[0m\u001b[0;34m)\u001b[0m\u001b[0;34m)\u001b[0m\u001b[0;34m\u001b[0m\u001b[0m\n\u001b[0;32m--> 528\u001b[0;31m     \u001b[0mr\u001b[0m \u001b[0;34m=\u001b[0m \u001b[0m_zeros\u001b[0m\u001b[0;34m.\u001b[0m\u001b[0m_brenth\u001b[0m\u001b[0;34m(\u001b[0m\u001b[0mf\u001b[0m\u001b[0;34m,\u001b[0m\u001b[0ma\u001b[0m\u001b[0;34m,\u001b[0m \u001b[0mb\u001b[0m\u001b[0;34m,\u001b[0m \u001b[0mxtol\u001b[0m\u001b[0;34m,\u001b[0m \u001b[0mrtol\u001b[0m\u001b[0;34m,\u001b[0m \u001b[0mmaxiter\u001b[0m\u001b[0;34m,\u001b[0m \u001b[0margs\u001b[0m\u001b[0;34m,\u001b[0m \u001b[0mfull_output\u001b[0m\u001b[0;34m,\u001b[0m \u001b[0mdisp\u001b[0m\u001b[0;34m)\u001b[0m\u001b[0;34m\u001b[0m\u001b[0m\n\u001b[0m\u001b[1;32m    529\u001b[0m     \u001b[0;32mreturn\u001b[0m \u001b[0mresults_c\u001b[0m\u001b[0;34m(\u001b[0m\u001b[0mfull_output\u001b[0m\u001b[0;34m,\u001b[0m \u001b[0mr\u001b[0m\u001b[0;34m)\u001b[0m\u001b[0;34m\u001b[0m\u001b[0m\n",
      "\u001b[0;31mValueError\u001b[0m: f(a) and f(b) must have different signs"
     ]
    }
   ],
   "source": [
    "x_brent_root = brent(f1,-1,1)"
   ]
  }
 ],
 "metadata": {
  "kernelspec": {
   "display_name": "Python 2",
   "language": "python",
   "name": "python2"
  },
  "language_info": {
   "codemirror_mode": {
    "name": "ipython",
    "version": 2
   },
   "file_extension": ".py",
   "mimetype": "text/x-python",
   "name": "python",
   "nbconvert_exporter": "python",
   "pygments_lexer": "ipython2",
   "version": "2.7.12"
  }
 },
 "nbformat": 4,
 "nbformat_minor": 0
}
